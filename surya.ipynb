{
 "cells": [
  {
   "cell_type": "markdown",
   "metadata": {},
   "source": [
    "# cp-2 ASSIGNMENT :"
   ]
  },
  {
   "cell_type": "code",
   "execution_count": 1,
   "metadata": {},
   "outputs": [
    {
     "name": "stdout",
     "output_type": "stream",
     "text": [
      "*\r\n",
      "**\r\n",
      "***\r\n",
      "****\r\n",
      "*****\r\n",
      "******\r\n",
      "*******\r\n",
      "********\r\n",
      "*********\r\n",
      "**********\r\n"
     ]
    }
   ],
   "source": [
    "#11th EXPERIMENT:\n",
    "\n",
    "def star(n):\n",
    "    \n",
    "    for i in range(0, n):\n",
    "     \n",
    "        for j in range(0, i+1):\n",
    "         \n",
    "            print(\"*\",end=\"\")\n",
    "            \n",
    "        print(\"\\r\")\n",
    "n = 10\n",
    "star(n)"
   ]
  },
  {
   "cell_type": "code",
   "execution_count": 4,
   "metadata": {},
   "outputs": [
    {
     "name": "stdout",
     "output_type": "stream",
     "text": [
      "enter a string: surya\n",
      "enter no of char to be removed: 2\n",
      "rya\n"
     ]
    }
   ],
   "source": [
    "#12th EXPERMENT:\n",
    "\n",
    "string = input(\"enter a string: \")\n",
    "i = int(input(\"enter no of char to be removed: \"))\n",
    "new_string =string.replace(string[0:i],\"\")\n",
    "print(new_string)"
   ]
  },
  {
   "cell_type": "code",
   "execution_count": 5,
   "metadata": {},
   "outputs": [
    {
     "name": "stdout",
     "output_type": "stream",
     "text": [
      "Enter elements: 6\n"
     ]
    }
   ],
   "source": [
    "#13th EXPERMENT:\n",
    "\n",
    "input_string = input('Enter elements: ')\n",
    "list1 = input_string.split()\n",
    "for i in range(len(list1)):\n",
    "    list1[i] = int(list1[i])\n",
    "    if list1[i]%5==0:\n",
    "        print(list1[i],end=\" \")\n"
   ]
  },
  {
   "cell_type": "code",
   "execution_count": 7,
   "metadata": {},
   "outputs": [
    {
     "name": "stdout",
     "output_type": "stream",
     "text": [
      "No. of times substring appears : 4\n"
     ]
    }
   ],
   "source": [
    "#14th EXPERMENT:\n",
    "\n",
    "strg=\"Hi HiihihiHihiHihihi\"\n",
    "sub=\"H\"\n",
    "\n",
    "print(\"No. of times substring appears :\",strg.count(sub))"
   ]
  },
  {
   "cell_type": "code",
   "execution_count": 8,
   "metadata": {},
   "outputs": [
    {
     "name": "stdout",
     "output_type": "stream",
     "text": [
      "1\r\n",
      "22\r\n",
      "333\r\n",
      "4444\r\n",
      "55555\r\n",
      "666666\r\n",
      "7777777\r\n",
      "88888888\r\n",
      "999999999\r\n"
     ]
    }
   ],
   "source": [
    "#15th EXPERMENT:\n",
    "\n",
    "def numbers(n):\n",
    "    \n",
    "    for i in range(1, n):\n",
    "     \n",
    "        for j in range(1, i+1):\n",
    "         \n",
    "            print(i,end=\"\")\n",
    "            \n",
    "        print(\"\\r\")\n",
    "n = 10\n",
    "numbers(n)"
   ]
  },
  {
   "cell_type": "markdown",
   "metadata": {},
   "source": [
    "# TUPLES:\n",
    "\n"
   ]
  },
  {
   "cell_type": "markdown",
   "metadata": {},
   "source": [
    "### 1st Experiment:\n",
    " ##### Python program to Find the size of a Tuple:"
   ]
  },
  {
   "cell_type": "code",
   "execution_count": 11,
   "metadata": {},
   "outputs": [
    {
     "name": "stdout",
     "output_type": "stream",
     "text": [
      "Size of Tuple1: 72bytes\n",
      "Size of Tuple2: 72bytes\n",
      "Size of Tuple3: 64bytes\n"
     ]
    }
   ],
   "source": [
    "\n",
    "\n",
    "Tuple1 = (\"E\",\"W\",\"Z\", 54,79,100)\n",
    "Tuple2 = (\"SRIRAM\", \"VELAN\", \"SURYA\", \"poda\", \"akilan\", \"katta\")\n",
    "Tuple3 = ((78, \"Roar\"), ( 2, \"King\"), (100, \"Last\"), (65, \"Rock\"),( 7, \"Feast\"))\n",
    "\n",
    "print(\"Size of Tuple1: \" + str(Tuple1.__sizeof__()) + \"bytes\")\n",
    "print(\"Size of Tuple2: \" + str(Tuple2.__sizeof__()) + \"bytes\")\n",
    "print(\"Size of Tuple3: \" + str(Tuple3.__sizeof__()) + \"bytes\")\n"
   ]
  },
  {
   "cell_type": "markdown",
   "metadata": {},
   "source": [
    "\n",
    "### Python – Maximum and Minimum K elements in Tuple:"
   ]
  },
  {
   "cell_type": "code",
   "execution_count": 30,
   "metadata": {},
   "outputs": [
    {
     "name": "stdout",
     "output_type": "stream",
     "text": [
      "The tuple is : \n",
      "(20, 755, 556, 10, 60, 78)\n",
      "The value of K has been initialized to \n",
      "1\n",
      "The result is : \n",
      "(10, 755)\n"
     ]
    }
   ],
   "source": [
    "my_tuple = (20, 755, 556, 10, 60, 78)\n",
    "print(\"The tuple is : \")\n",
    "print(my_tuple)\n",
    "K = 1\n",
    "print(\"The value of K has been initialized to \")\n",
    "print(K)\n",
    "my_result = []\n",
    "my_tuple = list(my_tuple)\n",
    "temp = sorted(my_tuple)\n",
    "for idx, val in enumerate(temp):\n",
    "    if idx < K or idx >= len(temp) - K:\n",
    "         my_result.append(val)\n",
    "my_result = tuple(my_result)\n",
    "print(\"The result is : \" )\n",
    "print(my_result)\n"
   ]
  },
  {
   "cell_type": "markdown",
   "metadata": {},
   "source": [
    "\n",
    "### Python – Sum of tuple elements:"
   ]
  },
  {
   "cell_type": "code",
   "execution_count": 44,
   "metadata": {},
   "outputs": [
    {
     "name": "stdout",
     "output_type": "stream",
     "text": [
      "Tuple Items =  (20, 40, 65, 75, 80, 220)\n",
      "\n",
      "The Sum of numTuple Tuple Items =  500\n"
     ]
    }
   ],
   "source": [
    "numTuple = (20, 40, 65, 75, 80, 220)\n",
    "print(\"Tuple Items = \", numTuple)\n",
    "\n",
    "tupleSum = sum(numTuple)\n",
    "print(\"\\nThe Sum of numTuple Tuple Items = \", tupleSum)"
   ]
  },
  {
   "cell_type": "markdown",
   "metadata": {},
   "source": [
    "# SET:\n"
   ]
  },
  {
   "cell_type": "markdown",
   "metadata": {},
   "source": [
    "\n",
    "### Find the size of a Set in Python:"
   ]
  },
  {
   "cell_type": "code",
   "execution_count": 7,
   "metadata": {},
   "outputs": [
    {
     "name": "stdout",
     "output_type": "stream",
     "text": [
      "Size of set1: 712bytes\n",
      "Size of set2: 712bytes\n",
      "Size of set3: 712bytes\n"
     ]
    }
   ],
   "source": [
    "set1 = {\"E\",\"W\",\"Z\", 54,79,100}\n",
    "set2 = {\"SRIRAM\", \"VELAN\", \"SURYA\", \"RAJ MOHAN\", \"Rajesh\", \"venkat\"}\n",
    "set3 = {(78, \"Roar\"), ( 2, \"King\"), (100, \"Last\"), (65, \"Rock\"),( 7, \"Feast\")}\n",
    "\n",
    "print(\"Size of set1: \" + str(set1.__sizeof__()) + \"bytes\")\n",
    "print(\"Size of set2: \" + str(set2.__sizeof__()) + \"bytes\")\n",
    "print(\"Size of set3: \" + str(set3.__sizeof__()) + \"bytes\")\n"
   ]
  },
  {
   "cell_type": "markdown",
   "metadata": {},
   "source": [
    "\n",
    "### Iterate over a set in Python:"
   ]
  },
  {
   "cell_type": "code",
   "execution_count": 8,
   "metadata": {},
   "outputs": [
    {
     "name": "stdout",
     "output_type": "stream",
     "text": [
      "I\n",
      "R\n",
      "M\n",
      "S\n",
      "A\n"
     ]
    }
   ],
   "source": [
    "iterate = set(\"SRIRAM\")\n",
    "\n",
    "for val in iterate:\n",
    "    print(val)\n"
   ]
  },
  {
   "cell_type": "markdown",
   "metadata": {},
   "source": [
    "# MATRIX:"
   ]
  },
  {
   "cell_type": "markdown",
   "metadata": {},
   "source": [
    "\n",
    "### Assigning Subsequent Rows to Matrix first row elements:"
   ]
  },
  {
   "cell_type": "code",
   "execution_count": 34,
   "metadata": {},
   "outputs": [
    {
     "name": "stdout",
     "output_type": "stream",
     "text": [
      "my list :[[1, 3, 5], [2, 4, 6], [7, 9, 11], [10, 20, 30]]\n",
      "The matrix : {1: [2, 4, 6], 3: [7, 9, 11], 5: [10, 20, 30]}\n"
     ]
    }
   ],
   "source": [
    "my_list=[[1,3,5],[2,4,6],[7,9,11],[10,20,30]]\n",
    "print(\"my list :\"+str(my_list))\n",
    "result={my_list[0][val] : my_list[val+1] for val in range(len(my_list)-1)}\n",
    "print(\"The matrix : \" +str(result))"
   ]
  },
  {
   "cell_type": "markdown",
   "metadata": {},
   "source": [
    "\n",
    "### Adding and Subtracting Matrices in Python:"
   ]
  },
  {
   "cell_type": "code",
   "execution_count": 33,
   "metadata": {},
   "outputs": [
    {
     "name": "stdout",
     "output_type": "stream",
     "text": [
      "elments in A\n",
      "[[2 6]\n",
      " [5 6]]\n",
      "elments in B\n",
      "[[2 2]\n",
      " [6 8]]\n",
      "addition of two matrix\n",
      "[[ 4  8]\n",
      " [11 14]]\n",
      "subtraction of two matrics\n",
      "[[ 0  4]\n",
      " [-1 -2]]\n"
     ]
    }
   ],
   "source": [
    "import numpy as np\n",
    "A = np.array([[2,6],[5,6]])\n",
    "B = np.array([[2,2],[6,8]])\n",
    "print(\"elments in A\")\n",
    "print(A)\n",
    "print(\"elments in B\")\n",
    "print(B)\n",
    "print(\"addition of two matrix\")\n",
    "print(np.add(A,B))\n",
    "print(\"subtraction of two matrics\")\n",
    "print(np.subtract(A,B))"
   ]
  },
  {
   "cell_type": "markdown",
   "metadata": {},
   "source": [
    "# Function:"
   ]
  },
  {
   "cell_type": "markdown",
   "metadata": {},
   "source": [
    "\n",
    "### How to get list of parameters name from a function in Python:"
   ]
  },
  {
   "cell_type": "code",
   "execution_count": 38,
   "metadata": {},
   "outputs": [
    {
     "name": "stdout",
     "output_type": "stream",
     "text": [
      "(a, b, c, d)\n"
     ]
    }
   ],
   "source": [
    "def function(a, b,c,d):\n",
    "    return a**b**c**d\n",
    "import inspect\n",
    "print(inspect.signature(function9))"
   ]
  },
  {
   "cell_type": "markdown",
   "metadata": {},
   "source": [
    "\n",
    "### How to Print Multiple Arguments in Python:"
   ]
  },
  {
   "cell_type": "code",
   "execution_count": 9,
   "metadata": {},
   "outputs": [
    {
     "name": "stdout",
     "output_type": "stream",
     "text": [
      "STUDENT DETAILS :  SRIRAM,13/10/2003\n",
      "STUDENT DETAILS :  VELAN,12/12/2003\n",
      "STUDENT DETAILS :  SURYA,11/10/2003\n"
     ]
    }
   ],
   "source": [
    "def student(student_name,dob):\n",
    "     print(\"STUDENT DETAILS : \" , student_name + ',' + dob)\n",
    "student(\"SRIRAM\" , \"13/10/2003\")\n",
    "student(\"VELAN\" , \"12/12/2003\")\n",
    "student(\"SURYA\" , \"11/10/2003\")"
   ]
  },
  {
   "cell_type": "markdown",
   "metadata": {},
   "source": [
    "# DICTIONARY:"
   ]
  },
  {
   "cell_type": "markdown",
   "metadata": {},
   "source": [
    "\n",
    "### Sort Python Dictionaries by Key or Value:"
   ]
  },
  {
   "cell_type": "code",
   "execution_count": 10,
   "metadata": {},
   "outputs": [
    {
     "name": "stdout",
     "output_type": "stream",
     "text": [
      "{10: 'sugar', 20: 'salt', 50: 'chips', 80: 'pepper'}\n"
     ]
    }
   ],
   "source": [
    "a={10:'sugar',20:'salt',50:'chips',80:'pepper'}\n",
    "a=dict(sorted(a.items()))\n",
    "print(a)"
   ]
  },
  {
   "cell_type": "markdown",
   "metadata": {},
   "source": [
    "\n",
    "### Python dictionary with keys having multiple inputs:"
   ]
  },
  {
   "cell_type": "code",
   "execution_count": 1,
   "metadata": {},
   "outputs": [
    {
     "name": "stdout",
     "output_type": "stream",
     "text": [
      "The dictionary is :\n",
      "{(10, 20, 30): 0, (40, 50, 60): 30}\n"
     ]
    }
   ],
   "source": [
    "dict1 = {}\n",
    "a, b, c = 10, 20, 30\n",
    "dict1[a, b, c] = a + b - c\n",
    "\n",
    "a, b, c = 40, 50, 60\n",
    "dict1[a, b, c] = a + b - c\n",
    "\n",
    "print(\"The dictionary is :\")\n",
    "print(dict1)"
   ]
  },
  {
   "cell_type": "markdown",
   "metadata": {},
   "source": [
    "# STRING:"
   ]
  },
  {
   "cell_type": "markdown",
   "metadata": {},
   "source": [
    "## 1st Experiment:\n",
    "### Python program to check whether the string is Symmetrical or Palindrome:"
   ]
  },
  {
   "cell_type": "code",
   "execution_count": 2,
   "metadata": {},
   "outputs": [
    {
     "name": "stdout",
     "output_type": "stream",
     "text": [
      "Enter a string :SRIRAM\n",
      "It is not a palindrome\n"
     ]
    }
   ],
   "source": [
    "string=input(\"Enter a string :\")\n",
    "rev=string[::-1]\n",
    "\n",
    "if string==rev:\n",
    "    print(\"It is palindrome\")\n",
    "else:\n",
    "    print(\"It is not a palindrome\")\n"
   ]
  },
  {
   "cell_type": "markdown",
   "metadata": {},
   "source": [
    "\n",
    "### Reverse words in a given String in Python:"
   ]
  },
  {
   "cell_type": "code",
   "execution_count": 3,
   "metadata": {},
   "outputs": [
    {
     "name": "stdout",
     "output_type": "stream",
     "text": [
      "MARIRS \n"
     ]
    }
   ],
   "source": [
    "string=\"SRIRAM\"\n",
    "new=''\n",
    "for i in string.split():\n",
    "    new+=i[::-1]+' '\n",
    "    \n",
    "print(new)"
   ]
  },
  {
   "cell_type": "markdown",
   "metadata": {},
   "source": [
    "\n",
    "### Ways to remove i’th character from string in Python:"
   ]
  },
  {
   "cell_type": "code",
   "execution_count": 4,
   "metadata": {},
   "outputs": [
    {
     "name": "stdout",
     "output_type": "stream",
     "text": [
      "The original string is : helloishello\n",
      "Which character you want to remove ?i\n",
      "The string after removal of i'th character(works) : helloshello\n"
     ]
    }
   ],
   "source": [
    "str1 = \"helloishello\"\n",
    "print (\"The original string is : \" + str1)\n",
    "z = str(input(\"Which character you want to remove ?\"))\n",
    "new = str1.replace(z, '', 1)\n",
    "print (\"The string after removal of i'th character(works) : \" + new)"
   ]
  },
  {
   "cell_type": "markdown",
   "metadata": {},
   "source": [
    "# LIST:"
   ]
  },
  {
   "cell_type": "markdown",
   "metadata": {},
   "source": [
    "\n",
    "### Python program to interchange first and last elements in a list:"
   ]
  },
  {
   "cell_type": "code",
   "execution_count": 5,
   "metadata": {},
   "outputs": [
    {
     "name": "stdout",
     "output_type": "stream",
     "text": [
      "Enter list size :3\n",
      "Enter element :123\n",
      "Enter element :456\n",
      "Enter element :456\n",
      "[456, 456, 123]\n"
     ]
    }
   ],
   "source": [
    "l=[]\n",
    "length=int(input(\"Enter list size :\"))\n",
    "for i in range(0,length):\n",
    "    e=int(input(\"Enter element :\"))\n",
    "    l.append(e)\n",
    "\n",
    "l[0],l[length-1]=l[length-1],l[0]\n",
    "print(l)"
   ]
  },
  {
   "cell_type": "markdown",
   "metadata": {},
   "source": [
    "\n",
    "### Python program to swap two elements in a list:"
   ]
  },
  {
   "cell_type": "code",
   "execution_count": 6,
   "metadata": {},
   "outputs": [
    {
     "name": "stdout",
     "output_type": "stream",
     "text": [
      "[456, 456, 123]\n"
     ]
    }
   ],
   "source": [
    "a=[9,99]\n",
    "a[0],a[len(a)-1]=a[len(a)-1],a[0]\n",
    "print(l)"
   ]
  },
  {
   "cell_type": "markdown",
   "metadata": {},
   "source": [
    "\n",
    "### Ways to find length of list:"
   ]
  },
  {
   "cell_type": "code",
   "execution_count": 68,
   "metadata": {},
   "outputs": [
    {
     "name": "stdout",
     "output_type": "stream",
     "text": [
      "Length of list : 4\n"
     ]
    }
   ],
   "source": [
    "s=[34,40,50,66]\n",
    "count=0\n",
    "for i in s:\n",
    "    count+=1   \n",
    "print(\"Length of list :\",count)"
   ]
  },
  {
   "cell_type": "markdown",
   "metadata": {},
   "source": [
    "\n",
    "### Maximum of two numbers in Python:"
   ]
  },
  {
   "cell_type": "code",
   "execution_count": 7,
   "metadata": {},
   "outputs": [
    {
     "name": "stdout",
     "output_type": "stream",
     "text": [
      "40\n"
     ]
    }
   ],
   "source": [
    "def maximum(a, b):\n",
    "\n",
    "    if a >= b:\n",
    "        return a\n",
    "    else:\n",
    "        return b\n",
    "\n",
    "a = 20\n",
    "b = 40\n",
    "print(maximum(a, b))\n"
   ]
  },
  {
   "cell_type": "markdown",
   "metadata": {},
   "source": [
    "\n",
    "### Minimum of two numbers in Python:"
   ]
  },
  {
   "cell_type": "code",
   "execution_count": 74,
   "metadata": {},
   "outputs": [
    {
     "name": "stdout",
     "output_type": "stream",
     "text": [
      "50\n"
     ]
    }
   ],
   "source": [
    "def minimum(a, b):\n",
    "\n",
    "    if a >= b:\n",
    "        return a\n",
    "    else:\n",
    "        return b\n",
    "\n",
    "a = 10\n",
    "b = 50\n",
    "print(minimum(a, b))\n"
   ]
  }
 ],
 "metadata": {
  "kernelspec": {
   "display_name": "Python 3",
   "language": "python",
   "name": "python3"
  },
  "language_info": {
   "codemirror_mode": {
    "name": "ipython",
    "version": 3
   },
   "file_extension": ".py",
   "mimetype": "text/x-python",
   "name": "python",
   "nbconvert_exporter": "python",
   "pygments_lexer": "ipython3",
   "version": "3.7.0"
  }
 },
 "nbformat": 4,
 "nbformat_minor": 5
}
